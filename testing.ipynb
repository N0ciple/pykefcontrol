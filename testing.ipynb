{
 "cells": [
  {
   "cell_type": "code",
   "execution_count": 1,
   "metadata": {},
   "outputs": [],
   "source": [
    "import requests"
   ]
  },
  {
   "cell_type": "code",
   "execution_count": 10,
   "metadata": {},
   "outputs": [
    {
     "name": "stdout",
     "output_type": "stream",
     "text": [
      "[{'itemType': 'update', 'path': 'player:player/data', 'rowsEvents': []}, {'itemType': 'update', 'path': 'player:player/data', 'rowsEvents': []}, {'itemType': 'update', 'path': 'player:volume', 'itemValue': {'type': 'i32_', 'i32_': 45}, 'rowsEvents': []}]\n"
     ]
    }
   ],
   "source": [
    "with requests.get(\"http://192.168.124.46/api/event/pollQueue?queueId={d72858c2-fbb6-4861-b304-f104fb6e8ea3}&timeout=25\",timeout=25) as response:\n",
    "    json_output = response.json()\n",
    "\n",
    "print(json_output)"
   ]
  },
  {
   "cell_type": "code",
   "execution_count": 15,
   "metadata": {},
   "outputs": [
    {
     "data": {
      "text/plain": [
       "{'path': 'settings:/kef/host/kefId',\n",
       " 'role': 'value',\n",
       " 'value': {'string_': 'd21cd456-6b64-4a91-a788-dc1bb1c38c4b',\n",
       "  'type': 'string_'}}"
      ]
     },
     "execution_count": 15,
     "metadata": {},
     "output_type": "execute_result"
    }
   ],
   "source": [
    "#/api/setData\n",
    "{\"path\":\"settings:/kef/host/kefId\",\"role\":\"value\",\"value\":{\"string_\":\"d21cd456-6b64-4a91-a788-dc1bb1c38c4b\",\"type\":\"string_\"}}"
   ]
  },
  {
   "cell_type": "code",
   "execution_count": 16,
   "metadata": {},
   "outputs": [
    {
     "data": {
      "text/plain": [
       "{'value': {'type': 'string_',\n",
       "  'string_': 'd21cd456-6b64-4a91-a788-dc1bb1c38c4b'},\n",
       " 'timestamp': 1670698025183}"
      ]
     },
     "execution_count": 16,
     "metadata": {},
     "output_type": "execute_result"
    }
   ],
   "source": [
    "#response\n",
    "{\"value\":{\"type\":\"string_\",\"string_\":\"d21cd456-6b64-4a91-a788-dc1bb1c38c4b\"},\"timestamp\":1670698025183}"
   ]
  },
  {
   "cell_type": "code",
   "execution_count": 17,
   "metadata": {},
   "outputs": [
    {
     "data": {
      "text/plain": [
       "{'path': 'settings:/kef/host/disableAppAnalytics',\n",
       " 'role': 'value',\n",
       " 'value': {'bool_': False, 'type': 'bool_'}}"
      ]
     },
     "execution_count": 17,
     "metadata": {},
     "output_type": "execute_result"
    }
   ],
   "source": [
    "#/api/setData\n",
    "{\"path\":\"settings:/kef/host/disableAppAnalytics\",\"role\":\"value\",\"value\":{\"bool_\":False,\"type\":\"bool_\"}}"
   ]
  },
  {
   "cell_type": "code",
   "execution_count": 18,
   "metadata": {},
   "outputs": [
    {
     "data": {
      "text/plain": [
       "{'queueId': '{a85677a4-bdb4-4ccf-a300-5f1b6f6a93df}',\n",
       " 'subscribe': [{'path': 'kef:eqProfile/v2', 'type': 'itemWithValue'},\n",
       "  {'path': 'settings:/kef/host/volumeStep', 'type': 'itemWithValue'},\n",
       "  {'path': 'settings:/kef/host/maximumVolume', 'type': 'itemWithValue'},\n",
       "  {'path': 'settings:/mediaPlayer/mute', 'type': 'itemWithValue'},\n",
       "  {'path': 'settings:/kef/host/volumeLimit', 'type': 'itemWithValue'},\n",
       "  {'path': 'player:volume', 'type': 'itemWithValue'},\n",
       "  {'path': 'notifications:/display/queue', 'type': 'rows'},\n",
       "  {'path': 'player:player/data/playTime', 'type': 'itemWithValue'},\n",
       "  {'path': 'playlists:pq/getitems', 'type': 'rows'},\n",
       "  {'path': 'kef:fwupgrade/info', 'type': 'itemWithValue'},\n",
       "  {'path': 'settings:/mediaPlayer/playMode', 'type': 'itemWithValue'},\n",
       "  {'path': 'kef:speedTest/status', 'type': 'itemWithValue'},\n",
       "  {'path': 'firmwareupdate:updateStatus', 'type': 'itemWithValue'},\n",
       "  {'path': 'settings:/kef/host/speakerStatus', 'type': 'itemWithValue'}],\n",
       " 'unsubscribe': []}"
      ]
     },
     "execution_count": 18,
     "metadata": {},
     "output_type": "execute_result"
    }
   ],
   "source": [
    "#/api/event/modifyQueue\n",
    "\n",
    "{\"queueId\":\"{a85677a4-bdb4-4ccf-a300-5f1b6f6a93df}\",\"subscribe\":[{\"path\":\"kef:eqProfile/v2\",\"type\":\"itemWithValue\"},{\"path\":\"settings:/kef/host/volumeStep\",\"type\":\"itemWithValue\"},{\"path\":\"settings:/kef/host/maximumVolume\",\"type\":\"itemWithValue\"},{\"path\":\"settings:/mediaPlayer/mute\",\"type\":\"itemWithValue\"},{\"path\":\"settings:/kef/host/volumeLimit\",\"type\":\"itemWithValue\"},{\"path\":\"player:volume\",\"type\":\"itemWithValue\"},{\"path\":\"notifications:/display/queue\",\"type\":\"rows\"},{\"path\":\"player:player/data/playTime\",\"type\":\"itemWithValue\"},{\"path\":\"playlists:pq/getitems\",\"type\":\"rows\"},{\"path\":\"kef:fwupgrade/info\",\"type\":\"itemWithValue\"},{\"path\":\"settings:/mediaPlayer/playMode\",\"type\":\"itemWithValue\"},{\"path\":\"kef:speedTest/status\",\"type\":\"itemWithValue\"},{\"path\":\"firmwareupdate:updateStatus\",\"type\":\"itemWithValue\"},{\"path\":\"settings:/kef/host/speakerStatus\",\"type\":\"itemWithValue\"}],\"unsubscribe\":[]}"
   ]
  },
  {
   "cell_type": "code",
   "execution_count": null,
   "metadata": {},
   "outputs": [],
   "source": []
  }
 ],
 "metadata": {
  "kernelspec": {
   "display_name": "Python 3.10.7 ('pykef')",
   "language": "python",
   "name": "python3"
  },
  "language_info": {
   "codemirror_mode": {
    "name": "ipython",
    "version": 3
   },
   "file_extension": ".py",
   "mimetype": "text/x-python",
   "name": "python",
   "nbconvert_exporter": "python",
   "pygments_lexer": "ipython3",
   "version": "3.10.7"
  },
  "orig_nbformat": 4,
  "vscode": {
   "interpreter": {
    "hash": "c5e7eb090a413baa4856bfd88a92af8fefaf59d7365d408a78135d70320c09e5"
   }
  }
 },
 "nbformat": 4,
 "nbformat_minor": 2
}
